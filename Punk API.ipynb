{
 "cells": [
  {
   "cell_type": "code",
   "execution_count": 1,
   "id": "846fd097",
   "metadata": {},
   "outputs": [],
   "source": [
    "import json\n",
    "import requests\n",
    "import pandas as pd"
   ]
  },
  {
   "cell_type": "code",
   "execution_count": 3,
   "id": "567951f9",
   "metadata": {},
   "outputs": [
    {
     "name": "stdout",
     "output_type": "stream",
     "text": [
      "[{'id': 121, 'name': 'Punk Monk', 'tagline': 'Who Ordered The Belgian Yeast?', 'first_brewed': '07/2009', 'description': 'Old world meets new in this trans-atlantic mash up of brewing ingredients. Belgian funk incorporates itself into the pithy, resin and grapefruit, with pineapple and banana rounding out a rambunctious avalanche of fruity hops.', 'image_url': 'https://images.punkapi.com/v2/keg.png', 'abv': 6, 'ibu': 60, 'target_fg': 1010, 'target_og': 1056, 'ebc': 17, 'srm': 8.5, 'ph': 4.4, 'attenuation_level': 82.1, 'volume': {'value': 20, 'unit': 'litres'}, 'boil_volume': {'value': 25, 'unit': 'litres'}, 'method': {'mash_temp': [{'temp': {'value': 65, 'unit': 'celsius'}, 'duration': 75}], 'fermentation': {'temp': {'value': 19, 'unit': 'celsius'}}, 'twist': None}, 'ingredients': {'malt': [{'name': 'Extra Pale', 'amount': {'value': 5.3, 'unit': 'kilograms'}}], 'hops': [{'name': 'Ahtanum', 'amount': {'value': 17.5, 'unit': 'grams'}, 'add': 'start', 'attribute': 'bitter'}, {'name': 'Chinook', 'amount': {'value': 15, 'unit': 'grams'}, 'add': 'start', 'attribute': 'bitter'}, {'name': 'Crystal', 'amount': {'value': 17.5, 'unit': 'grams'}, 'add': 'middle', 'attribute': 'flavour'}, {'name': 'Chinook', 'amount': {'value': 17.5, 'unit': 'grams'}, 'add': 'middle', 'attribute': 'flavour'}, {'name': 'Ahtanum', 'amount': {'value': 17.5, 'unit': 'grams'}, 'add': 'end', 'attribute': 'flavour'}, {'name': 'Chinook', 'amount': {'value': 17.5, 'unit': 'grams'}, 'add': 'end', 'attribute': 'flavour'}, {'name': 'Motueka', 'amount': {'value': 17.5, 'unit': 'grams'}, 'add': 'end', 'attribute': 'flavour'}, {'name': 'Chinook', 'amount': {'value': 30, 'unit': 'grams'}, 'add': 'dry hop', 'attribute': 'aroma'}], 'yeast': 'Wyeast 3522 - Belgian Ardennes™'}, 'food_pairing': ['Moules frites', 'Thai green curry', 'Lemon posset'], 'brewers_tips': 'Bottle condition and prime with a little bit more sugar than usual to attain those authentic fine Belgian bubbles.', 'contributed_by': 'Sam Mason <samjbmason>'}]\n"
     ]
    }
   ],
   "source": [
    "url = 'https://api.punkapi.com/v2/beers/random'\n",
    "\n",
    "r = requests.get(url)\n",
    "print(r.json())"
   ]
  },
  {
   "cell_type": "code",
   "execution_count": 6,
   "id": "2da121da",
   "metadata": {},
   "outputs": [
    {
     "data": {
      "text/plain": [
       "[{'id': 121,\n",
       "  'name': 'Punk Monk',\n",
       "  'tagline': 'Who Ordered The Belgian Yeast?',\n",
       "  'first_brewed': '07/2009',\n",
       "  'description': 'Old world meets new in this trans-atlantic mash up of brewing ingredients. Belgian funk incorporates itself into the pithy, resin and grapefruit, with pineapple and banana rounding out a rambunctious avalanche of fruity hops.',\n",
       "  'image_url': 'https://images.punkapi.com/v2/keg.png',\n",
       "  'abv': 6,\n",
       "  'ibu': 60,\n",
       "  'target_fg': 1010,\n",
       "  'target_og': 1056,\n",
       "  'ebc': 17,\n",
       "  'srm': 8.5,\n",
       "  'ph': 4.4,\n",
       "  'attenuation_level': 82.1,\n",
       "  'volume': {'value': 20, 'unit': 'litres'},\n",
       "  'boil_volume': {'value': 25, 'unit': 'litres'},\n",
       "  'method': {'mash_temp': [{'temp': {'value': 65, 'unit': 'celsius'},\n",
       "     'duration': 75}],\n",
       "   'fermentation': {'temp': {'value': 19, 'unit': 'celsius'}},\n",
       "   'twist': None},\n",
       "  'ingredients': {'malt': [{'name': 'Extra Pale',\n",
       "     'amount': {'value': 5.3, 'unit': 'kilograms'}}],\n",
       "   'hops': [{'name': 'Ahtanum',\n",
       "     'amount': {'value': 17.5, 'unit': 'grams'},\n",
       "     'add': 'start',\n",
       "     'attribute': 'bitter'},\n",
       "    {'name': 'Chinook',\n",
       "     'amount': {'value': 15, 'unit': 'grams'},\n",
       "     'add': 'start',\n",
       "     'attribute': 'bitter'},\n",
       "    {'name': 'Crystal',\n",
       "     'amount': {'value': 17.5, 'unit': 'grams'},\n",
       "     'add': 'middle',\n",
       "     'attribute': 'flavour'},\n",
       "    {'name': 'Chinook',\n",
       "     'amount': {'value': 17.5, 'unit': 'grams'},\n",
       "     'add': 'middle',\n",
       "     'attribute': 'flavour'},\n",
       "    {'name': 'Ahtanum',\n",
       "     'amount': {'value': 17.5, 'unit': 'grams'},\n",
       "     'add': 'end',\n",
       "     'attribute': 'flavour'},\n",
       "    {'name': 'Chinook',\n",
       "     'amount': {'value': 17.5, 'unit': 'grams'},\n",
       "     'add': 'end',\n",
       "     'attribute': 'flavour'},\n",
       "    {'name': 'Motueka',\n",
       "     'amount': {'value': 17.5, 'unit': 'grams'},\n",
       "     'add': 'end',\n",
       "     'attribute': 'flavour'},\n",
       "    {'name': 'Chinook',\n",
       "     'amount': {'value': 30, 'unit': 'grams'},\n",
       "     'add': 'dry hop',\n",
       "     'attribute': 'aroma'}],\n",
       "   'yeast': 'Wyeast 3522 - Belgian Ardennes™'},\n",
       "  'food_pairing': ['Moules frites', 'Thai green curry', 'Lemon posset'],\n",
       "  'brewers_tips': 'Bottle condition and prime with a little bit more sugar than usual to attain those authentic fine Belgian bubbles.',\n",
       "  'contributed_by': 'Sam Mason <samjbmason>'}]"
      ]
     },
     "execution_count": 6,
     "metadata": {},
     "output_type": "execute_result"
    }
   ],
   "source": [
    "data = json.loads(r.text)\n",
    "data"
   ]
  },
  {
   "cell_type": "code",
   "execution_count": 10,
   "id": "3064149d",
   "metadata": {},
   "outputs": [
    {
     "name": "stdout",
     "output_type": "stream",
     "text": [
      "API run completed0\n",
      "API run completed1\n",
      "API run completed2\n",
      "[[{'id': 292, 'name': 'Hello My Name Is Maria', 'tagline': 'Mandarin Infused Double IPA.', 'first_brewed': '2017', 'description': 'Brewed exclusively for the Spanish market, this Hello My Name brew features a twist of flavour inspired by Spain.', 'image_url': None, 'abv': 8.2, 'ibu': 70, 'target_fg': 1009, 'target_og': 1070, 'ebc': 15, 'srm': 8, 'ph': 4.4, 'attenuation_level': 87, 'volume': {'value': 20, 'unit': 'litres'}, 'boil_volume': {'value': 25, 'unit': 'litres'}, 'method': {'mash_temp': [{'temp': {'value': 66, 'unit': 'celsius'}, 'duration': 65}], 'fermentation': {'temp': {'value': 19, 'unit': 'celsius'}}, 'twist': None}, 'ingredients': {'malt': [{'name': 'Pale Ale', 'amount': {'value': 5.52, 'unit': 'kilograms'}}, {'name': 'Caramalt', 'amount': {'value': 0.12, 'unit': 'kilograms'}}], 'hops': [{'name': 'Simcoe', 'amount': {'value': 24, 'unit': 'grams'}, 'add': '90', 'attribute': 'Bittering'}, {'name': 'Chinook', 'amount': {'value': 20, 'unit': 'grams'}, 'add': '30', 'attribute': 'Flavour'}, {'name': 'Simcoe', 'amount': {'value': 30, 'unit': 'grams'}, 'add': '0', 'attribute': 'Aroma'}, {'name': 'Citra', 'amount': {'value': 40, 'unit': 'grams'}, 'add': 'Dry Hop', 'attribute': 'Aroma'}, {'name': 'Chinook', 'amount': {'value': 40, 'unit': 'grams'}, 'add': 'Dry Hop', 'attribute': 'Aroma'}, {'name': 'Simcoe', 'amount': {'value': 40, 'unit': 'grams'}, 'add': 'Dry Hop', 'attribute': 'Aroma'}, {'name': 'Centennial', 'amount': {'value': 20, 'unit': 'grams'}, 'add': 'Dry Hop', 'attribute': 'Aroma'}, {'name': 'Mandarin Segements', 'amount': {'value': 1000, 'unit': 'grams'}, 'add': 'Mash', 'attribute': 'Flavour'}], 'yeast': 'Wyeast 1272 - American Ale II™'}, 'food_pairing': ['Stir-fried chicken', 'Chocolate mousse', 'Orange polenta cake'], 'brewers_tips': 'Using the mandarin in the mash means you can also throw in the peel to extract the essential oils from it. The pith can be quite bitter if it makes it into the boil.', 'contributed_by': 'John Jenkman <johnjenkman>'}], [{'id': 232, 'name': 'Ace Of Equinox', 'tagline': 'Single-Hopped Session IPA.', 'first_brewed': '01/2016', 'description': 'We love hops. We adore and worship their profile ability to transform beer. You could say that we have a terminal addiction. To celebrate this fetish we’re heroing our favourites in single hopped limited releases. No also starring, no extras, no compromise. The Hop is the Hero. A biscuity malty backbone builds to intense tropical fruit, with bitter resin notes, culminating with an explosive papya hit and a long bitter finish. Our Ace in the hole, devastatingly singular, deliciously bitter. Serving up an Ace each and every time.', 'image_url': 'https://images.punkapi.com/v2/232.png', 'abv': 4.5, 'ibu': 40, 'target_fg': 1011, 'target_og': 1045, 'ebc': 18, 'srm': 9, 'ph': 4.2, 'attenuation_level': 75.6, 'volume': {'value': 20, 'unit': 'litres'}, 'boil_volume': {'value': 25, 'unit': 'litres'}, 'method': {'mash_temp': [{'temp': {'value': 65, 'unit': 'celsius'}, 'duration': 75}], 'fermentation': {'temp': {'value': 19, 'unit': 'celsius'}}, 'twist': None}, 'ingredients': {'malt': [{'name': 'Pale Ale', 'amount': {'value': 2.3, 'unit': 'kilograms'}}, {'name': 'Maris Otter', 'amount': {'value': 1.3, 'unit': 'kilograms'}}, {'name': 'Caramalt', 'amount': {'value': 0.5, 'unit': 'kilograms'}}], 'hops': [{'name': 'Equinox', 'amount': {'value': 3.75, 'unit': 'grams'}, 'add': 'start', 'attribute': 'bitter'}, {'name': 'Equinox', 'amount': {'value': 10, 'unit': 'grams'}, 'add': 'middle', 'attribute': 'flavour'}, {'name': 'Equinox', 'amount': {'value': 37.5, 'unit': 'grams'}, 'add': 'end', 'attribute': 'flavour'}, {'name': 'Equinox', 'amount': {'value': 187.5, 'unit': 'grams'}, 'add': 'dry hop', 'attribute': 'aroma'}], 'yeast': 'Wyeast 1056 - American Ale™'}, 'food_pairing': ['Chicken, mango and chili salad', 'Deep fried coconut prawns', 'Pineapple upside down cake'], 'brewers_tips': 'If you are struggling with the malt hop balance, try upping the speciality malt a little bit until you hit your sweet spot.', 'contributed_by': 'Matt Ball <GeordieMatt>'}], [{'id': 254, 'name': 'Small Batch: Kellerbier', 'tagline': 'Crisp Unfiltered Goodness.', 'first_brewed': '2017', 'description': 'A pale lager, with toasty biscuit malt balances against a robust spicy bitterness.', 'image_url': 'https://images.punkapi.com/v2/keg.png', 'abv': 4.5, 'ibu': 25, 'target_fg': 1011, 'target_og': 1043, 'ebc': 17, 'srm': 8.6, 'ph': 5.3, 'attenuation_level': 79, 'volume': {'value': 20, 'unit': 'litres'}, 'boil_volume': {'value': 25, 'unit': 'litres'}, 'method': {'mash_temp': [{'temp': {'value': 56, 'unit': 'celsius'}, 'duration': 75}], 'fermentation': {'temp': {'value': 10, 'unit': 'celsius'}}, 'twist': None}, 'ingredients': {'malt': [{'name': 'Propino Pale Malt', 'amount': {'value': 1.2, 'unit': 'kilograms'}}, {'name': 'Pilsner', 'amount': {'value': 1.35, 'unit': 'kilograms'}}, {'name': 'Munich', 'amount': {'value': 0.5, 'unit': 'kilograms'}}, {'name': 'Amber', 'amount': {'value': 0.1, 'unit': 'kilograms'}}], 'hops': [{'name': 'Perle', 'amount': {'value': 5, 'unit': 'grams'}, 'add': 'Start', 'attribute': 'Bitter'}, {'name': 'Hallertauer Mittelfrüh', 'amount': {'value': 7, 'unit': 'grams'}, 'add': 'Start', 'attribute': 'Bitter'}, {'name': 'Mandarina Bavaria', 'amount': {'value': 20, 'unit': 'grams'}, 'add': 'End', 'attribute': 'Flavour'}], 'yeast': 'Wyeast 2124 - Bohemian Lager™'}, 'food_pairing': ['Bratwurst and Mustard', 'Caraway Roast Pork', 'Gingerbread Cake'], 'brewers_tips': \"Kellerbier translates to cellar beer, if you don’t have a cellar just make sure to keep the fermentation temperature as close as possible to what you'd expect in a bavarian basement.\", 'contributed_by': 'John Jenkman <johnjenkman>'}]]\n"
     ]
    }
   ],
   "source": [
    "raw = []\n",
    "def api_runner():\n",
    "    url = 'https://api.punkapi.com/v2/beers/random'\n",
    "    r = requests.get(url)\n",
    "    data = r.json()\n",
    "    raw.append(data)\n",
    "    \n",
    "for i in range (3):\n",
    "    api_runner()\n",
    "    print (\"API run completed\" + str(i))\n",
    "\n",
    "df = pd.DataFrame(raw)\n",
    "\n",
    "print(raw)"
   ]
  },
  {
   "cell_type": "code",
   "execution_count": 11,
   "id": "1057318d",
   "metadata": {},
   "outputs": [
    {
     "data": {
      "text/html": [
       "<div>\n",
       "<style scoped>\n",
       "    .dataframe tbody tr th:only-of-type {\n",
       "        vertical-align: middle;\n",
       "    }\n",
       "\n",
       "    .dataframe tbody tr th {\n",
       "        vertical-align: top;\n",
       "    }\n",
       "\n",
       "    .dataframe thead th {\n",
       "        text-align: right;\n",
       "    }\n",
       "</style>\n",
       "<table border=\"1\" class=\"dataframe\">\n",
       "  <thead>\n",
       "    <tr style=\"text-align: right;\">\n",
       "      <th></th>\n",
       "      <th>0</th>\n",
       "    </tr>\n",
       "  </thead>\n",
       "  <tbody>\n",
       "    <tr>\n",
       "      <th>0</th>\n",
       "      <td>{'id': 292, 'name': 'Hello My Name Is Maria', ...</td>\n",
       "    </tr>\n",
       "    <tr>\n",
       "      <th>1</th>\n",
       "      <td>{'id': 232, 'name': 'Ace Of Equinox', 'tagline...</td>\n",
       "    </tr>\n",
       "    <tr>\n",
       "      <th>2</th>\n",
       "      <td>{'id': 254, 'name': 'Small Batch: Kellerbier',...</td>\n",
       "    </tr>\n",
       "  </tbody>\n",
       "</table>\n",
       "</div>"
      ],
      "text/plain": [
       "                                                   0\n",
       "0  {'id': 292, 'name': 'Hello My Name Is Maria', ...\n",
       "1  {'id': 232, 'name': 'Ace Of Equinox', 'tagline...\n",
       "2  {'id': 254, 'name': 'Small Batch: Kellerbier',..."
      ]
     },
     "execution_count": 11,
     "metadata": {},
     "output_type": "execute_result"
    }
   ],
   "source": [
    "df"
   ]
  },
  {
   "cell_type": "code",
   "execution_count": null,
   "id": "9ffc16d6",
   "metadata": {},
   "outputs": [],
   "source": []
  }
 ],
 "metadata": {
  "kernelspec": {
   "display_name": "Python 3 (ipykernel)",
   "language": "python",
   "name": "python3"
  },
  "language_info": {
   "codemirror_mode": {
    "name": "ipython",
    "version": 3
   },
   "file_extension": ".py",
   "mimetype": "text/x-python",
   "name": "python",
   "nbconvert_exporter": "python",
   "pygments_lexer": "ipython3",
   "version": "3.9.13"
  }
 },
 "nbformat": 4,
 "nbformat_minor": 5
}
